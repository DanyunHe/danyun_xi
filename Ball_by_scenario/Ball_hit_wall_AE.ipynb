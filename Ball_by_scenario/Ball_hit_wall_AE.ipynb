{
 "cells": [
  {
   "cell_type": "code",
   "execution_count": 2,
   "metadata": {},
   "outputs": [
    {
     "name": "stderr",
     "output_type": "stream",
     "text": [
      "/anaconda3/lib/python3.6/site-packages/h5py/__init__.py:36: FutureWarning: Conversion of the second argument of issubdtype from `float` to `np.floating` is deprecated. In future, it will be treated as `np.float64 == np.dtype(float).type`.\n",
      "  from ._conv import register_converters as _register_converters\n",
      "Using TensorFlow backend.\n"
     ]
    }
   ],
   "source": [
    "import numpy as np\n",
    "from keras.models import Sequential\n",
    "from keras.layers import Dense\n",
    "from keras.optimizers import SGD\n",
    "from keras import losses, regularizers\n",
    "from keras import backend as K\n",
    "import matplotlib.pyplot as plt\n",
    "%matplotlib notebook"
   ]
  },
  {
   "cell_type": "code",
   "execution_count": 3,
   "metadata": {},
   "outputs": [],
   "source": [
    "import torch\n",
    "\n",
    "import torch.nn as nn\n",
    "from torch.autograd import Function, Variable\n",
    "from torch.nn.parameter import Parameter\n",
    "import torch.nn.functional as F"
   ]
  },
  {
   "cell_type": "code",
   "execution_count": 4,
   "metadata": {},
   "outputs": [],
   "source": [
    "def make_frames(data, dt = 0.1):\n",
    "    # first four entries x. Next four y.\n",
    "    x, vx, vy, y = data\n",
    "    return np.hstack((x+vx*np.arange(-3,1)*dt, y+vy*np.arange(0,4)*dt))"
   ]
  },
  {
   "cell_type": "code",
   "execution_count": 128,
   "metadata": {},
   "outputs": [
    {
     "data": {
      "text/plain": [
       "array([-3, -2, -1,  0])"
      ]
     },
     "execution_count": 128,
     "metadata": {},
     "output_type": "execute_result"
    }
   ],
   "source": [
    "np.arange(-3,1)"
   ]
  },
  {
   "cell_type": "code",
   "execution_count": 5,
   "metadata": {},
   "outputs": [],
   "source": [
    "t = 2\n",
    "evolv_matrix = np.array([[1, t, 0, 0], [0, 1, 0, 0], [0, 0, -1, 0], [0, 0, -t, -1]])\n",
    "\n",
    "## x' = x + vx*t\n",
    "## vx' = vx\n",
    "## vy' = -vy\n",
    "## y' = -(y+vy*t)"
   ]
  },
  {
   "cell_type": "code",
   "execution_count": 6,
   "metadata": {},
   "outputs": [],
   "source": [
    "data_zero = np.random.rand(5000,4)*np.array([1,1,-1,1])+np.array([0.5,0.5,-0.5,0.5]) # v_y negative, v_y<0.5. Wall is y=0\n",
    "data_t = (evolv_matrix@data_zero.T).T"
   ]
  },
  {
   "cell_type": "code",
   "execution_count": 91,
   "metadata": {},
   "outputs": [
    {
     "data": {
      "text/plain": [
       "(5000, 4)"
      ]
     },
     "execution_count": 91,
     "metadata": {},
     "output_type": "execute_result"
    }
   ],
   "source": [
    "data_zero.shape"
   ]
  },
  {
   "cell_type": "code",
   "execution_count": 7,
   "metadata": {},
   "outputs": [],
   "source": [
    "frames_zero = np.array([make_frames(data_zero[i]) for i in range(len(data_zero))])\n",
    "frames_t = np.array([make_frames(data_t[i]) for i in range(len(data_t))])"
   ]
  },
  {
   "cell_type": "code",
   "execution_count": 8,
   "metadata": {},
   "outputs": [],
   "source": [
    "X_train =frames_zero[:len(frames_zero)*4//5]\n",
    "Y_train = frames_t[:len(frames_zero)*4//5]\n",
    "X_test = frames_zero[len(frames_zero)*4//5:]\n",
    "Y_test = frames_t[len(frames_zero)*4//5:]"
   ]
  },
  {
   "cell_type": "code",
   "execution_count": 85,
   "metadata": {},
   "outputs": [
    {
     "data": {
      "text/plain": [
       "-0.3390549471483571"
      ]
     },
     "execution_count": 85,
     "metadata": {},
     "output_type": "execute_result"
    }
   ],
   "source": [
    "min(Y_train[:,7])"
   ]
  },
  {
   "cell_type": "code",
   "execution_count": 10,
   "metadata": {},
   "outputs": [],
   "source": [
    "weight=[np.array([[ 1.1712618 , -4.809617  ], \\\n",
    "        [-0.23456737, -1.0090216 ],\\\n",
    "        [ 0.21794164,  1.6582928 ],\\\n",
    "        [-1.3298252 ,  4.9579344 ],\\\n",
    "        [ 4.8249226 ,  0.6935729 ],\\\n",
    "        [ 1.0788591 ,  0.9836357 ],\\\n",
    "        [-1.9654702 , -0.47282606],\\\n",
    "        [-4.7279577 , -1.39693   ]]),\\\n",
    " np.array([ 0.8412236, -1.321475 ]),\\\n",
    " np.array([[ 1.3731354 , -0.78845894],\\\n",
    "        [ 0.9144167 ,  1.6326566 ]]),\\\n",
    " np.array([-0.72670597,  1.2179112 ]),\\\n",
    " np.array([[ 0.14669047,  0.15308473,  0.15947868,  0.16587289,  0.6894742 ,\\\n",
    "          0.71708626,  0.74469864,  0.7723107 ],\\\n",
    "        [ 0.59940106,  0.6263816 ,  0.6533616 ,  0.68034196, -0.23349167,\\\n",
    "         -0.24303403, -0.25257668, -0.2621189 ]]),\\\n",
    " np.array([1.1055683 , 1.1345174 , 1.1634684 , 1.192418  , 0.0751679 ,\\\n",
    "        0.13770306, 0.20023818, 0.2627731 ])]\n"
   ]
  },
  {
   "cell_type": "code",
   "execution_count": 92,
   "metadata": {},
   "outputs": [
    {
     "data": {
      "text/plain": [
       "[array([[ 1.1712618 , -4.809617  ],\n",
       "        [-0.23456737, -1.0090216 ],\n",
       "        [ 0.21794164,  1.6582928 ],\n",
       "        [-1.3298252 ,  4.9579344 ],\n",
       "        [ 4.8249226 ,  0.6935729 ],\n",
       "        [ 1.0788591 ,  0.9836357 ],\n",
       "        [-1.9654702 , -0.47282606],\n",
       "        [-4.7279577 , -1.39693   ]]),\n",
       " array([ 0.8412236, -1.321475 ]),\n",
       " array([[ 1.3731354 , -0.78845894],\n",
       "        [ 0.9144167 ,  1.6326566 ]]),\n",
       " array([-0.72670597,  1.2179112 ]),\n",
       " array([[ 0.14669047,  0.15308473,  0.15947868,  0.16587289,  0.6894742 ,\n",
       "          0.71708626,  0.74469864,  0.7723107 ],\n",
       "        [ 0.59940106,  0.6263816 ,  0.6533616 ,  0.68034196, -0.23349167,\n",
       "         -0.24303403, -0.25257668, -0.2621189 ]]),\n",
       " array([1.1055683 , 1.1345174 , 1.1634684 , 1.192418  , 0.0751679 ,\n",
       "        0.13770306, 0.20023818, 0.2627731 ])]"
      ]
     },
     "execution_count": 92,
     "metadata": {},
     "output_type": "execute_result"
    }
   ],
   "source": [
    "weight"
   ]
  },
  {
   "cell_type": "code",
   "execution_count": 95,
   "metadata": {},
   "outputs": [
    {
     "data": {
      "text/plain": [
       "array([1.73284376, 1.78993253, 1.84702255, 1.90411162, 0.17280805,\n",
       "       0.23907458, 0.30534094, 0.37160736])"
      ]
     },
     "execution_count": 95,
     "metadata": {},
     "output_type": "execute_result"
    }
   ],
   "source": [
    "i=10\n",
    "((weight[0].T@X_train[i]+weight[1])@weight[2]+weight[3])@weight[4]+weight[5]"
   ]
  },
  {
   "cell_type": "code",
   "execution_count": 94,
   "metadata": {},
   "outputs": [
    {
     "data": {
      "text/plain": [
       "array([1.73284376, 1.78993253, 1.84702255, 1.90411162, 0.17280805,\n",
       "       0.23907458, 0.30534094, 0.37160736])"
      ]
     },
     "execution_count": 94,
     "metadata": {},
     "output_type": "execute_result"
    }
   ],
   "source": [
    "i=10\n",
    "weight[0].T@X_train[i]@weight[2]@weight[4]+weight[1]@weight[2]@weight[4]+weight[3]@weight[4]+weight[5]"
   ]
  },
  {
   "cell_type": "code",
   "execution_count": 101,
   "metadata": {},
   "outputs": [],
   "source": [
    "A=weight[0]@weight[2]@weight[4]\n",
    "B=weight[1]@weight[2]@weight[4]+weight[3]@weight[4]+weight[5]\n"
   ]
  },
  {
   "cell_type": "code",
   "execution_count": 130,
   "metadata": {},
   "outputs": [
    {
     "data": {
      "text/plain": [
       "array([[ 1.1712618 , -4.809617  ],\n",
       "       [-0.23456737, -1.0090216 ],\n",
       "       [ 0.21794164,  1.6582928 ],\n",
       "       [-1.3298252 ,  4.9579344 ],\n",
       "       [ 4.8249226 ,  0.6935729 ],\n",
       "       [ 1.0788591 ,  0.9836357 ],\n",
       "       [-1.9654702 , -0.47282606],\n",
       "       [-4.7279577 , -1.39693   ]])"
      ]
     },
     "execution_count": 130,
     "metadata": {},
     "output_type": "execute_result"
    }
   ],
   "source": [
    "weight[0]"
   ]
  },
  {
   "cell_type": "code",
   "execution_count": 102,
   "metadata": {},
   "outputs": [
    {
     "data": {
      "text/plain": [
       "array([1.73284376, 1.78993253, 1.84702255, 1.90411162, 0.17280805,\n",
       "       0.23907458, 0.30534094, 0.37160736])"
      ]
     },
     "execution_count": 102,
     "metadata": {},
     "output_type": "execute_result"
    }
   ],
   "source": [
    "X_train[i].T@A+B"
   ]
  },
  {
   "cell_type": "code",
   "execution_count": 112,
   "metadata": {},
   "outputs": [
    {
     "data": {
      "text/plain": [
       "array([[-5.66953199, -5.92414974, -6.17876189, -6.43337792,  0.12568861,\n",
       "         0.13240266,  0.13911836,  0.14583119],\n",
       "       [-1.05918178, -1.10659849, -1.15401402, -1.20143041, -0.51676186,\n",
       "        -0.5371771 , -0.55759231, -0.57800775],\n",
       "       [ 1.78616833,  1.86618941,  1.94620856,  2.02622909,  0.65979491,\n",
       "         0.68573285,  0.71167063,  0.73760891],\n",
       "       [ 5.8775713 ,  6.14157056,  6.40556403,  6.6695615 , -0.26802959,\n",
       "        -0.28051442, -0.29300104, -0.30548459],\n",
       "       [-0.53663438, -0.56230429, -0.58797501, -0.6136448 ,  5.62909212,\n",
       "         5.85503761,  6.08098619,  6.30693131],\n",
       "       [ 0.80198086,  0.83758327,  0.87318453,  0.90878668,  1.46519318,\n",
       "         1.5237266 ,  1.58226056,  1.64079408],\n",
       "       [ 0.00685251,  0.00781427,  0.00877658,  0.00973836, -2.34048663,\n",
       "        -2.43436736, -2.52824931, -2.62212993],\n",
       "       [-0.27232253, -0.28295939, -0.29359461, -0.30423134, -5.6947556 ,\n",
       "        -5.92309625, -6.15143981, -6.37978025]])"
      ]
     },
     "execution_count": 112,
     "metadata": {},
     "output_type": "execute_result"
    }
   ],
   "source": [
    "A"
   ]
  },
  {
   "cell_type": "code",
   "execution_count": 113,
   "metadata": {},
   "outputs": [],
   "source": [
    "from sympy import *"
   ]
  },
  {
   "cell_type": "code",
   "execution_count": 119,
   "metadata": {},
   "outputs": [],
   "source": [
    "x1,x2,x3,x4,y1,y2,y3,y4=symbols('x1 x2 x3 x4 y1 y2 y3 y4')\n",
    "init_printing(use_unicode=True)"
   ]
  },
  {
   "cell_type": "code",
   "execution_count": 123,
   "metadata": {},
   "outputs": [
    {
     "data": {
      "image/png": "[encoded data removed]",
      "text/latex": [
       "$$\\left[\\begin{matrix}- 5.66953198800709 x_{1} - 1.05918178473397 x_{2} + 1.78616833344366 x_{3} + 5.87757130410901 x_{4} - 0.536634380511821 y_{1} + 0.801980858635318 y_{2} + 0.00685250678314686 y_{3} - 0.272322533441004 y_{4} & - 5.9241497398475 x_{1} - 1.10659849204676 x_{2} + 1.86618941245174 x_{3} + 6.14157055638989 x_{4} - 0.562304288999677 y_{1} + 0.837583265245712 y_{2} + 0.00781426711253391 y_{3} - 0.282959385700351 y_{4} & - 6.17876188787288 x_{1} - 1.15401402376718 x_{2} + 1.94620855939757 x_{3} + 6.40556403203538 x_{4} - 0.587975005109429 y_{1} + 0.873184525921885 y_{2} + 0.00877657814493482 y_{3} - 0.29359461084452 y_{4} & - 6.43337792055858 x_{1} - 1.201430405603 x_{2} + 2.02622909121871 x_{3} + 6.66956150317583 x_{4} - 0.613644795631962 y_{1} + 0.908786677534074 y_{2} + 0.00973835504376641 y_{3} - 0.304231335105592 y_{4} & 0.125688607188176 x_{1} - 0.516761856393878 x_{2} + 0.659794912707619 x_{3} - 0.26802959205203 x_{4} + 5.62909211638156 y_{1} + 1.46519317565435 y_{2} - 2.34048663485596 y_{3} - 5.69475560496399 y_{4} & 0.132402659282424 x_{1} - 0.537177095765391 x_{2} + 0.685732846409991 x_{3} - 0.28051442385353 x_{4} + 5.85503760529284 y_{1} + 1.52372659568871 y_{2} - 2.43436735904998 y_{3} - 5.92309625354839 y_{4} & 0.139118363698875 x_{1} - 0.557592309352452 x_{2} + 0.711670625795698 x_{3} - 0.293001040730783 x_{4} + 6.08098619208707 y_{1} + 1.58226055856435 y_{2} - 2.52824931077505 y_{3} - 6.15143980803061 y_{4} & 0.145831187160854 x_{1} - 0.57800775346543 x_{2} + 0.737608914479921 x_{3} - 0.305484592495919 x_{4} + 6.30693130693416 y_{1} + 1.64079408434117 y_{2} - 2.62212992608688 y_{3} - 6.37978025402191 y_{4}\\end{matrix}\\right]$$"
      ],
      "text/plain": [
       "[-5.66953198800709⋅x₁ - 1.05918178473397⋅x₂ + 1.78616833344366⋅x₃ + 5.87757130\n",
       "410901⋅x₄ - 0.536634380511821⋅y₁ + 0.801980858635318⋅y₂ + 0.00685250678314686⋅\n",
       "y₃ - 0.272322533441004⋅y₄  -5.9241497398475⋅x₁ - 1.10659849204676⋅x₂ + 1.86618\n",
       "941245174⋅x₃ + 6.14157055638989⋅x₄ - 0.562304288999677⋅y₁ + 0.837583265245712⋅\n",
       "y₂ + 0.00781426711253391⋅y₃ - 0.282959385700351⋅y₄  -6.17876188787288⋅x₁ - 1.1\n",
       "5401402376718⋅x₂ + 1.94620855939757⋅x₃ + 6.40556403203538⋅x₄ - 0.5879750051094\n",
       "29⋅y₁ + 0.873184525921885⋅y₂ + 0.00877657814493482⋅y₃ - 0.29359461084452⋅y₄  -\n",
       "6.43337792055858⋅x₁ - 1.201430405603⋅x₂ + 2.02622909121871⋅x₃ + 6.669561503175\n",
       "83⋅x₄ - 0.613644795631962⋅y₁ + 0.908786677534074⋅y₂ + 0.00973835504376641⋅y₃ -\n",
       " 0.304231335105592⋅y₄  0.125688607188176⋅x₁ - 0.516761856393878⋅x₂ + 0.6597949\n",
       "12707619⋅x₃ - 0.26802959205203⋅x₄ + 5.62909211638156⋅y₁ + 1.46519317565435⋅y₂ \n",
       "- 2.34048663485596⋅y₃ - 5.69475560496399⋅y₄  0.132402659282424⋅x₁ - 0.53717709\n",
       "5765391⋅x₂ + 0.685732846409991⋅x₃ - 0.28051442385353⋅x₄ + 5.85503760529284⋅y₁ \n",
       "+ 1.52372659568871⋅y₂ - 2.43436735904998⋅y₃ - 5.92309625354839⋅y₄  0.139118363\n",
       "698875⋅x₁ - 0.557592309352452⋅x₂ + 0.711670625795698⋅x₃ - 0.293001040730783⋅x₄\n",
       " + 6.08098619208707⋅y₁ + 1.58226055856435⋅y₂ - 2.52824931077505⋅y₃ - 6.1514398\n",
       "0803061⋅y₄  0.145831187160854⋅x₁ - 0.57800775346543⋅x₂ + 0.737608914479921⋅x₃ \n",
       "- 0.305484592495919⋅x₄ + 6.30693130693416⋅y₁ + 1.64079408434117⋅y₂ - 2.6221299\n",
       "2608688⋅y₃ - 6.37978025402191⋅y₄]"
      ]
     },
     "execution_count": 123,
     "metadata": {},
     "output_type": "execute_result"
    }
   ],
   "source": [
    "simplify(x1*A[0,:]+x2*A[1]+x3*A[2]+x4*A[3]+y1*A[4]+y2*A[5]+y3*A[6]+y4*A[7])"
   ]
  },
  {
   "cell_type": "code",
   "execution_count": 122,
   "metadata": {},
   "outputs": [
    {
     "data": {
      "image/png": "[encoded data removed]",
      "text/latex": [
       "$$\\left ( 8\\right )$$"
      ],
      "text/plain": [
       "(8,)"
      ]
     },
     "execution_count": 122,
     "metadata": {},
     "output_type": "execute_result"
    }
   ],
   "source": [
    "A[0].shape"
   ]
  },
  {
   "cell_type": "code",
   "execution_count": 127,
   "metadata": {},
   "outputs": [
    {
     "data": {
      "text/plain": [
       "array([-5.66953198800709*x1 - 1.05918178473397*x2 + 1.78616833344366*x3 + 5.87757130410901*x4 - 0.536634380511821*y1 + 0.801980858635318*y2 + 0.00685250678314686*y3 - 0.272322533441004*y4,\n",
       "       -5.9241497398475*x1 - 1.10659849204676*x2 + 1.86618941245174*x3 + 6.14157055638989*x4 - 0.562304288999677*y1 + 0.837583265245712*y2 + 0.00781426711253391*y3 - 0.282959385700351*y4,\n",
       "       -6.17876188787288*x1 - 1.15401402376718*x2 + 1.94620855939757*x3 + 6.40556403203538*x4 - 0.587975005109429*y1 + 0.873184525921885*y2 + 0.00877657814493482*y3 - 0.29359461084452*y4,\n",
       "       -6.43337792055858*x1 - 1.201430405603*x2 + 2.02622909121871*x3 + 6.66956150317583*x4 - 0.613644795631962*y1 + 0.908786677534074*y2 + 0.00973835504376641*y3 - 0.304231335105592*y4,\n",
       "       0.125688607188176*x1 - 0.516761856393878*x2 + 0.659794912707619*x3 - 0.26802959205203*x4 + 5.62909211638156*y1 + 1.46519317565435*y2 - 2.34048663485596*y3 - 5.69475560496399*y4,\n",
       "       0.132402659282424*x1 - 0.537177095765391*x2 + 0.685732846409991*x3 - 0.28051442385353*x4 + 5.85503760529284*y1 + 1.52372659568871*y2 - 2.43436735904998*y3 - 5.92309625354839*y4,\n",
       "       0.139118363698875*x1 - 0.557592309352452*x2 + 0.711670625795698*x3 - 0.293001040730783*x4 + 6.08098619208707*y1 + 1.58226055856435*y2 - 2.52824931077505*y3 - 6.15143980803061*y4,\n",
       "       0.145831187160854*x1 - 0.57800775346543*x2 + 0.737608914479921*x3 - 0.305484592495919*x4 + 6.30693130693416*y1 + 1.64079408434117*y2 - 2.62212992608688*y3 - 6.37978025402191*y4],\n",
       "      dtype=object)"
      ]
     },
     "execution_count": 127,
     "metadata": {},
     "output_type": "execute_result"
    }
   ],
   "source": [
    "x1*A[0]+x2*A[1]+x3*A[2]+x4*A[3]+y1*A[4]+y2*A[5]+y3*A[6]+y4*A[7]"
   ]
  },
  {
   "cell_type": "code",
   "execution_count": 31,
   "metadata": {},
   "outputs": [
    {
     "data": {
      "text/plain": [
       "array([1.73568999, 1.79074889, 1.84580779, 1.90086668, 0.1922554 ,\n",
       "       0.24619425, 0.3001331 , 0.35407194])"
      ]
     },
     "execution_count": 31,
     "metadata": {},
     "output_type": "execute_result"
    }
   ],
   "source": [
    "Y_train[i]"
   ]
  },
  {
   "cell_type": "code",
   "execution_count": 37,
   "metadata": {},
   "outputs": [
    {
     "data": {
      "text/plain": [
       "(2,)"
      ]
     },
     "execution_count": 37,
     "metadata": {},
     "output_type": "execute_result"
    }
   ],
   "source": [
    "(weight[0].T@X_train[i]+weight[1]).shape"
   ]
  },
  {
   "cell_type": "code",
   "execution_count": 104,
   "metadata": {},
   "outputs": [
    {
     "data": {
      "image/png": "[encoded data removed]",
      "text/plain": [
       "<Figure size 432x288 with 1 Axes>"
      ]
     },
     "metadata": {},
     "output_type": "display_data"
    }
   ],
   "source": [
    "for i in range(20,30):\n",
    "\n",
    "#     pred1=weight[0].T@X_train[i]+weight[1]\n",
    "#     pred2=(weight[0].T@X_train[i]+weight[1])@weight[2]+weight[3]\n",
    "    pred3=((weight[0].T@X_test[i]+weight[1])@weight[2]+weight[3])@weight[4]+weight[5]\n",
    "    plt.plot(X_test[i][:4],X_test[i][4:],'o', label = 'train_frames')\n",
    "#     plt.plot(pred1[0],pred1[1],'*')\n",
    "#     plt.plot(pred2[0],pred2[1],'^')\n",
    "    plt.plot(pred3[:4],pred3[4:],'o', label = 'train_frames')\n",
    "    plt.plot(Y_test[i][:4],Y_test[i][4:],'o', label = 'train_frames')"
   ]
  },
  {
   "cell_type": "code",
   "execution_count": null,
   "metadata": {},
   "outputs": [
    {
     "name": "stdout",
     "output_type": "stream",
     "text": [
      "Epoch 1/150\n"
     ]
    }
   ],
   "source": [
    "model = Sequential()\n",
    "#model.add(Dense(8, input_dim=int(8), activation='relu'))\n",
    "model.add(Dense(2, input_dim=int(8), activation='relu'))\n",
    "model.add(Dense(2, activation='relu'))\n",
    "#model.add(Dense(8, activation='relu'))\n",
    "model.add(Dense(int(8)))\n",
    "sgd = SGD(lr=0.2, decay=1e-4)\n",
    "\n",
    "model.compile(optimizer=sgd,\n",
    "              loss=losses.mean_squared_error,\n",
    "              metrics=['accuracy'])\n",
    "model.fit(X_train, Y_train, epochs=150,batch_size=64)"
   ]
  },
  {
   "cell_type": "code",
   "execution_count": 33,
   "metadata": {},
   "outputs": [],
   "source": [
    "get_encoder_output = K.function([model.layers[0].input],\n",
    "                                  [model.layers[0].output])\n",
    "get_decoder_input = K.function([model.layers[0].input],\n",
    "                                  [model.layers[1].output])"
   ]
  },
  {
   "cell_type": "code",
   "execution_count": 34,
   "metadata": {},
   "outputs": [
    {
     "data": {
      "text/plain": [
       "array([[1.529591 , 1.7568989]], dtype=float32)"
      ]
     },
     "execution_count": 34,
     "metadata": {},
     "output_type": "execute_result"
    }
   ],
   "source": [
    "get_encoder_output([X_train[:1]])[0]"
   ]
  },
  {
   "cell_type": "code",
   "execution_count": 35,
   "metadata": {},
   "outputs": [
    {
     "data": {
      "text/plain": [
       "array([[3.2955775, 2.4150686]], dtype=float32)"
      ]
     },
     "execution_count": 35,
     "metadata": {},
     "output_type": "execute_result"
    }
   ],
   "source": [
    "get_decoder_input([X_train[:1]])[0]"
   ]
  },
  {
   "cell_type": "code",
   "execution_count": 36,
   "metadata": {},
   "outputs": [
    {
     "data": {
      "text/plain": [
       "array([0.19593659, 0.33731669, 0.47869679, 0.6200769 , 1.2366937 ,\n",
       "       1.0955375 , 0.95438131, 0.81322511])"
      ]
     },
     "execution_count": 36,
     "metadata": {},
     "output_type": "execute_result"
    }
   ],
   "source": [
    "X_train[0]"
   ]
  },
  {
   "cell_type": "code",
   "execution_count": null,
   "metadata": {},
   "outputs": [],
   "source": [
    "def slope(vec):\n",
    "    return (vec[-1]-vec[4])/(vec[3]-vec[0])\n",
    "def intersect(vec):\n",
    "    return vec[4]-(vec[-1]-vec[4])/(vec[3]-vec[0])*vec[0]"
   ]
  },
  {
   "cell_type": "code",
   "execution_count": 136,
   "metadata": {},
   "outputs": [
    {
     "ename": "NameError",
     "evalue": "name 'model' is not defined",
     "output_type": "error",
     "traceback": [
      "\u001b[0;31m---------------------------------------------------------------------------\u001b[0m",
      "\u001b[0;31mNameError\u001b[0m                                 Traceback (most recent call last)",
      "\u001b[0;32m<ipython-input-136-fe89023697c1>\u001b[0m in \u001b[0;36m<module>\u001b[0;34m()\u001b[0m\n\u001b[1;32m      1\u001b[0m \u001b[0mi\u001b[0m\u001b[0;34m=\u001b[0m\u001b[0;36m0\u001b[0m\u001b[0;34m\u001b[0m\u001b[0;34m\u001b[0m\u001b[0m\n\u001b[0;32m----> 2\u001b[0;31m \u001b[0mpred\u001b[0m \u001b[0;34m=\u001b[0m \u001b[0mmodel\u001b[0m\u001b[0;34m.\u001b[0m\u001b[0mpredict\u001b[0m\u001b[0;34m(\u001b[0m\u001b[0mX_train\u001b[0m\u001b[0;34m[\u001b[0m\u001b[0mi\u001b[0m\u001b[0;34m:\u001b[0m\u001b[0mi\u001b[0m\u001b[0;34m+\u001b[0m\u001b[0;36m1\u001b[0m\u001b[0;34m]\u001b[0m\u001b[0;34m)\u001b[0m\u001b[0;34m[\u001b[0m\u001b[0;36m0\u001b[0m\u001b[0;34m]\u001b[0m\u001b[0;34m\u001b[0m\u001b[0;34m\u001b[0m\u001b[0m\n\u001b[0m\u001b[1;32m      3\u001b[0m \u001b[0;34m\u001b[0m\u001b[0m\n\u001b[1;32m      4\u001b[0m \u001b[0mplt\u001b[0m\u001b[0;34m.\u001b[0m\u001b[0mplot\u001b[0m\u001b[0;34m(\u001b[0m\u001b[0mX_train\u001b[0m\u001b[0;34m[\u001b[0m\u001b[0;36m0\u001b[0m\u001b[0;34m]\u001b[0m\u001b[0;34m[\u001b[0m\u001b[0;34m:\u001b[0m\u001b[0;36m4\u001b[0m\u001b[0;34m]\u001b[0m\u001b[0;34m,\u001b[0m\u001b[0mX_train\u001b[0m\u001b[0;34m[\u001b[0m\u001b[0;36m0\u001b[0m\u001b[0;34m]\u001b[0m\u001b[0;34m[\u001b[0m\u001b[0;36m4\u001b[0m\u001b[0;34m:\u001b[0m\u001b[0;34m]\u001b[0m\u001b[0;34m,\u001b[0m \u001b[0mcolor\u001b[0m \u001b[0;34m=\u001b[0m \u001b[0;34m'C0'\u001b[0m\u001b[0;34m,\u001b[0m \u001b[0mlabel\u001b[0m \u001b[0;34m=\u001b[0m \u001b[0;34m'train_frames'\u001b[0m\u001b[0;34m)\u001b[0m\u001b[0;34m\u001b[0m\u001b[0;34m\u001b[0m\u001b[0m\n\u001b[1;32m      5\u001b[0m \u001b[0mplt\u001b[0m\u001b[0;34m.\u001b[0m\u001b[0mplot\u001b[0m\u001b[0;34m(\u001b[0m\u001b[0mY_train\u001b[0m\u001b[0;34m[\u001b[0m\u001b[0;36m0\u001b[0m\u001b[0;34m]\u001b[0m\u001b[0;34m[\u001b[0m\u001b[0;34m:\u001b[0m\u001b[0;36m4\u001b[0m\u001b[0;34m]\u001b[0m\u001b[0;34m,\u001b[0m\u001b[0mY_train\u001b[0m\u001b[0;34m[\u001b[0m\u001b[0;36m0\u001b[0m\u001b[0;34m]\u001b[0m\u001b[0;34m[\u001b[0m\u001b[0;36m4\u001b[0m\u001b[0;34m:\u001b[0m\u001b[0;34m]\u001b[0m\u001b[0;34m,\u001b[0m \u001b[0mcolor\u001b[0m \u001b[0;34m=\u001b[0m \u001b[0;34m'C1'\u001b[0m\u001b[0;34m)\u001b[0m\u001b[0;34m\u001b[0m\u001b[0;34m\u001b[0m\u001b[0m\n",
      "\u001b[0;31mNameError\u001b[0m: name 'model' is not defined"
     ]
    }
   ],
   "source": [
    "i=0\n",
    "\n",
    "plt.plot(X_train[0][:4],X_train[0][4:], color = 'C0', label = 'train_frames')\n",
    "plt.plot(Y_train[0][:4],Y_train[0][4:], color = 'C1')\n",
    "\n",
    "plt.plot([X_train[0][3], X_train[0][3] - X_train[0][-1]/slope(X_train[0])], [X_train[0][-1], 0],'--', color = 'C0',\n",
    "        label = 'test_frames')\n",
    "plt.plot([X_train[0][3] - X_train[0][-1]/slope(X_train[0]), Y_train[0][0]], [0, Y_train[0][4]],'--', color = 'C1')\n",
    "\n",
    "\n",
    "\n",
    "plt.plot(pred[:4],pred[4:], color = 'C2')\n",
    "plt.plot([pred[0] - pred[4]/slope(pred), pred[0]], [0, pred[4]],'--', color = 'C2', label = 'pred_frames')\n",
    "\n",
    "plt.ylim(0,3)\n",
    "plt.legend()"
   ]
  },
  {
   "cell_type": "code",
   "execution_count": 131,
   "metadata": {},
   "outputs": [
    {
     "data": {
      "image/png": "[encoded data removed]",
      "text/latex": [
       "$$\\left ( 1000, \\quad 8\\right )$$"
      ],
      "text/plain": [
       "(1000, 8)"
      ]
     },
     "execution_count": 131,
     "metadata": {},
     "output_type": "execute_result"
    }
   ],
   "source": [
    "X_test.shape"
   ]
  },
  {
   "cell_type": "code",
   "execution_count": 146,
   "metadata": {},
   "outputs": [
    {
     "data": {
      "image/png": "[encoded data removed]",
      "text/plain": [
       "<Figure size 432x288 with 1 Axes>"
      ]
     },
     "metadata": {},
     "output_type": "display_data"
    }
   ],
   "source": [
    "for i in range(20,21):\n",
    "\n",
    "#     pred1=weight[0].T@X_train[i]+weight[1]\n",
    "#     pred2=(weight[0].T@X_train[i]+weight[1])@weight[2]+weight[3]\n",
    "    \n",
    "    xtrain=np.hstack((X_test[i][:4]+5,X_test[i][4:]))\n",
    "    pred3=((weight[0].T@(xtrain)+weight[1])@weight[2]+weight[3])@weight[4]+weight[5]\n",
    "    plt.plot(5+X_test[i][:4],X_test[i][4:],'o', label = 'train_frames')\n",
    "#     plt.plot(pred1[0],pred1[1],'*')\n",
    "#     plt.plot(pred2[0],pred2[1],'^')\n",
    "    plt.plot(pred3[:4],pred3[4:],'*', label = 'train_frames')\n",
    "    plt.plot(5+Y_test[i][:4],Y_test[i][4:],'o', label = 'train_frames')"
   ]
  },
  {
   "cell_type": "code",
   "execution_count": 143,
   "metadata": {},
   "outputs": [
    {
     "data": {
      "text/plain": [
       "array([5.54636318, 5.62671669, 5.70707021, 5.78742373, 0.73443352,\n",
       "       0.6593435 , 0.58425349, 0.50916348])"
      ]
     },
     "execution_count": 143,
     "metadata": {},
     "output_type": "execute_result"
    }
   ],
   "source": [
    "np.hstack((X_test[i][:4]+5,X_test[i][4:]))"
   ]
  },
  {
   "cell_type": "code",
   "execution_count": null,
   "metadata": {},
   "outputs": [],
   "source": []
  }
 ],
 "metadata": {
  "kernelspec": {
   "display_name": "Python 3",
   "language": "python",
   "name": "python3"
  },
  "language_info": {
   "codemirror_mode": {
    "name": "ipython",
    "version": 3
   },
   "file_extension": ".py",
   "mimetype": "text/x-python",
   "name": "python",
   "nbconvert_exporter": "python",
   "pygments_lexer": "ipython3",
   "version": "3.6.8"
  }
 },
 "nbformat": 4,
 "nbformat_minor": 2
}
